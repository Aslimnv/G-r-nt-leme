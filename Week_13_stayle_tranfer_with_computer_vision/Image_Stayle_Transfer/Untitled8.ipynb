{
 "cells": [
  {
   "cell_type": "code",
   "execution_count": 25,
   "id": "df05cd8b-2893-4d99-b783-1a736ca6f936",
   "metadata": {},
   "outputs": [],
   "source": [
    "import tensorflow as tf\n",
    "import tensorflow_hub as hub\n",
    "import numpy as np\n",
    "from PIL import Image"
   ]
  },
  {
   "cell_type": "code",
   "execution_count": 35,
   "id": "5ccc0bd9-7345-465e-b4e3-72d36d0410ac",
   "metadata": {},
   "outputs": [
    {
     "name": "stdout",
     "output_type": "stream",
     "text": [
      "stil aktarma işlemi başlıyor\n"
     ]
    }
   ],
   "source": [
    "def load_img(image_path):\n",
    "    img = tf.io.read_file(image_path)\n",
    "    img = tf.image.decode_image(img, channels=3)\n",
    "    img = tf.image.convert_image_dtype(img, tf.float32)\n",
    "    img = img[tf.newaxis, :]\n",
    "    return img\n",
    "    \n",
    "model = hub.load('https://tfhub.dev/google/magenta/arbitrary-image-stylization-v1-256/2')\n",
    "\n",
    "#dönüştürmek istediğim görüntü\n",
    "img_input = load_img(\"./tospa.jfif\")\n",
    "\n",
    "#slit olarak ele alınacak görüntü\n",
    "img_style = load_img(\"./okyanus.jpg\")\n",
    "\n",
    "print(\"stil aktarma işlemi başlıyor\") \n",
    "my_output_img = model(img_input, img_style)[0]\n",
    "\n",
    "my_output_img = tf.keras.preprocessing.image.array_to_img(my_output_img[0])\n",
    "my_output_img.save(\"./my_transformed_img_1.png\")          \n",
    "                     "
   ]
  },
  {
   "cell_type": "code",
   "execution_count": null,
   "id": "185f51c2-90d1-4160-8baf-855d65199ca6",
   "metadata": {},
   "outputs": [],
   "source": []
  }
 ],
 "metadata": {
  "kernelspec": {
   "display_name": "env_ybs",
   "language": "python",
   "name": "env_ybs"
  },
  "language_info": {
   "codemirror_mode": {
    "name": "ipython",
    "version": 3
   },
   "file_extension": ".py",
   "mimetype": "text/x-python",
   "name": "python",
   "nbconvert_exporter": "python",
   "pygments_lexer": "ipython3",
   "version": "3.10.10"
  }
 },
 "nbformat": 4,
 "nbformat_minor": 5
}
